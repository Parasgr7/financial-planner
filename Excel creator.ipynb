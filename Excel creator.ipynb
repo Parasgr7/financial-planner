{
 "cells": [
  {
   "cell_type": "code",
   "execution_count": 1,
   "id": "a6e61048",
   "metadata": {},
   "outputs": [
    {
     "name": "stdout",
     "output_type": "stream",
     "text": [
      "\u001b[33mWARNING: Skipping /usr/local/lib/python3.11/site-packages/docutils-0.20.1-py3.11.egg-info due to invalid metadata entry 'name'\u001b[0m\u001b[33m\n",
      "\u001b[0m\u001b[33mWARNING: Skipping /usr/local/lib/python3.11/site-packages/docutils-0.20.1-py3.11.egg-info due to invalid metadata entry 'name'\u001b[0m\u001b[33m\n",
      "\u001b[0mRequirement already satisfied: pandas in /usr/local/lib/python3.11/site-packages (2.0.3)\n",
      "Requirement already satisfied: python-dateutil>=2.8.2 in /usr/local/lib/python3.11/site-packages (from pandas) (2.8.2)\n",
      "Requirement already satisfied: pytz>=2020.1 in /usr/local/lib/python3.11/site-packages (from pandas) (2023.3)\n",
      "Requirement already satisfied: tzdata>=2022.1 in /usr/local/lib/python3.11/site-packages (from pandas) (2023.3)\n",
      "Requirement already satisfied: numpy>=1.21.0 in /usr/local/lib/python3.11/site-packages (from pandas) (1.23.5)\n",
      "Requirement already satisfied: six>=1.5 in /usr/local/lib/python3.11/site-packages (from python-dateutil>=2.8.2->pandas) (1.16.0)\n",
      "\u001b[33mWARNING: Skipping /usr/local/lib/python3.11/site-packages/docutils-0.20.1-py3.11.egg-info due to invalid metadata entry 'name'\u001b[0m\u001b[33m\n",
      "\u001b[0m\u001b[33mWARNING: Skipping /usr/local/lib/python3.11/site-packages/docutils-0.20.1-py3.11.egg-info due to invalid metadata entry 'name'\u001b[0m\u001b[33m\n",
      "\u001b[0m\u001b[33mWARNING: Skipping /usr/local/lib/python3.11/site-packages/docutils-0.20.1-py3.11.egg-info due to invalid metadata entry 'name'\u001b[0m\u001b[33m\n",
      "\u001b[0m\u001b[33mWARNING: Skipping /usr/local/lib/python3.11/site-packages/docutils-0.20.1-py3.11.egg-info due to invalid metadata entry 'name'\u001b[0m\u001b[33m\n",
      "\u001b[0m"
     ]
    }
   ],
   "source": [
    "!pip install pandas"
   ]
  },
  {
   "cell_type": "code",
   "execution_count": 14,
   "id": "dece5449",
   "metadata": {},
   "outputs": [
    {
     "name": "stdout",
     "output_type": "stream",
     "text": [
      "Excel files have been created successfully.\n"
     ]
    }
   ],
   "source": [
    "import pandas as pd\n",
    "import json\n",
    "\n",
    "# Read data from the JSON file\n",
    "with open(\"screener_data.json\", \"r\") as file:\n",
    "    data = json.load(file)\n",
    "\n",
    "# Loop through the data\n",
    "for entry in data:\n",
    "    name = entry[\"name\"]\n",
    "    company_name = entry[\"shareHoldings\"][0][\"companyName\"]\n",
    "    results = entry[\"shareHoldings\"][0][\"result\"]\n",
    "    # Extract the data (dates) and values from the dictionary\n",
    "    data_dates = list(results[0].keys())\n",
    "    data_values = list(results.values())\n",
    "\n",
    "    # Create a DataFrame from the extracted data and values\n",
    "    df = pd.DataFrame({\"date\": data_dates, \"result\": data_values})\n",
    "\n",
    "    # Save the DataFrame to an Excel file\n",
    "    file_name = f\"{name} - {company_name}.xlsx\"\n",
    "    df.to_excel(file_name, index=False)\n",
    "\n",
    "\n",
    "print(\"Excel files have been created successfully.\")\n",
    "\n"
   ]
  },
  {
   "cell_type": "code",
   "execution_count": 121,
   "id": "749656ea",
   "metadata": {},
   "outputs": [],
   "source": [
    "import pandas as pd\n",
    "import json\n",
    "\n",
    "# Read data from the JSON file\n",
    "with open(\"screenerData.json\", \"r\") as file:\n",
    "    data = json.load(file)\n",
    "\n",
    "# Create a list to store the data in the required format\n",
    "data_list = []\n",
    "\n",
    "# Loop through the data\n",
    "for entry in data:\n",
    "    name = entry[\"name\"]\n",
    "    if \"shareHoldings\" in entry:\n",
    "        for holdings in entry[\"shareHoldings\"]:\n",
    "            company_name = holdings[\"companyName\"]\n",
    "            results = holdings[\"result\"]\n",
    "            # Extract the data (dates) and values from the dictionary\n",
    "            data_dates = list(results[0].keys())\n",
    "            data_values = list(results[0].values())\n",
    "            # Add data to the list\n",
    "            data_list.append([name, company_name, data_dates, data_values])\n",
    "\n",
    "# Create a DataFrame from the list\n",
    "df = pd.DataFrame(data_list, columns=[\"Name\", \"Company\", \"Date\", \"Quantity\"])\n",
    "\n",
    "largest_months = 0\n",
    "largest_company = None\n",
    "\n",
    "for investment in data_list:\n",
    "    months_list = investment[2]\n",
    "    num_of_months = len(months_list)\n",
    "    \n",
    "    if num_of_months > largest_months:\n",
    "        largest_months = num_of_months\n",
    "        largest_months_list = months_list\n",
    "\n",
    "# print(largest_months_list)\n",
    "\n",
    "# Modify investment_data[3] to include zero for missing months\n",
    "for investment in data_list:\n",
    "    months_list = investment[2]\n",
    "    numbers_list = investment[3]\n",
    "\n",
    "    # Create a dictionary to store the numbers with corresponding dates\n",
    "    numbers_dict = dict(zip(months_list, numbers_list))\n",
    "\n",
    "    # Update the numbers list with zero for the months not present in the largest_months_list\n",
    "    investment[3] = [numbers_dict.get(date, 0) for date in largest_months_list]\n",
    "    investment[2] = largest_months_list\n",
    "# print(data_list)\n",
    "\n",
    "\n",
    "# Convert the list of dictionaries into a suitable format for DataFrame\n",
    "date_quantity_list = []\n",
    "for _, row in df.iterrows():\n",
    "    data = {'Name': row['Name'], 'Company': row['Company']}\n",
    "    data.update(dict(zip(row['Date'], row['Quantity'])))\n",
    "    date_quantity_list.append(data)\n",
    "\n",
    "# Create the new DataFrame\n",
    "new_df = pd.DataFrame(date_quantity_list)\n",
    "\n",
    "# Reorder the columns\n",
    "new_df = new_df[['Name', 'Company'] + [col for col in new_df.columns if col not in ['Name', 'Company']]]\n",
    "\n",
    "# Export to Excel\n",
    "output_filename = 'output_data.xlsx'\n",
    "new_df.to_excel(output_filename, index=False)"
   ]
  },
  {
   "cell_type": "code",
   "execution_count": null,
   "id": "1994522b",
   "metadata": {},
   "outputs": [],
   "source": []
  },
  {
   "cell_type": "code",
   "execution_count": 113,
   "id": "7b378d8a",
   "metadata": {},
   "outputs": [],
   "source": [
    "# CODE SNIPPET TO MERGE ALL JSON FILES INTO SINGLE FILE\n",
    "import json\n",
    "import os\n",
    "\n",
    "# Path to the directory containing the JSON files\n",
    "directory_path = \"dump\"\n",
    "\n",
    "# Create an empty list to hold the combined data\n",
    "combined_data = []\n",
    "\n",
    "# Get a list of all JSON files in the specified directory\n",
    "json_files = [f for f in os.listdir(directory_path) if f.endswith(\".json\")]\n",
    "\n",
    "# Iterate through each JSON file\n",
    "for file in json_files:\n",
    "    with open(os.path.join(directory_path, file), \"r\") as f:\n",
    "        # Load the JSON data from the file\n",
    "        data = json.load(f)\n",
    "        # Assuming each file contains an array of objects\n",
    "        # Extend the combined_data list with the objects from the current file\n",
    "        combined_data.extend(data)\n",
    "\n",
    "# Write the combined data to a new JSON file\n",
    "output_file_path = os.path.join(directory_path, \"screenerData.json\")\n",
    "with open(output_file_path, \"w\") as output_file:\n",
    "    json.dump(combined_data, output_file)"
   ]
  },
  {
   "cell_type": "code",
   "execution_count": 116,
   "id": "e7a746ee",
   "metadata": {},
   "outputs": [],
   "source": [
    "a=[121,122].extend([2,5])"
   ]
  },
  {
   "cell_type": "code",
   "execution_count": 119,
   "id": "2031d74c",
   "metadata": {},
   "outputs": [
    {
     "name": "stdout",
     "output_type": "stream",
     "text": [
      "None\n"
     ]
    }
   ],
   "source": [
    "print(a)"
   ]
  },
  {
   "cell_type": "code",
   "execution_count": null,
   "id": "664d2687",
   "metadata": {},
   "outputs": [],
   "source": []
  }
 ],
 "metadata": {
  "kernelspec": {
   "display_name": "Python 3 (ipykernel)",
   "language": "python",
   "name": "python3"
  },
  "language_info": {
   "codemirror_mode": {
    "name": "ipython",
    "version": 3
   },
   "file_extension": ".py",
   "mimetype": "text/x-python",
   "name": "python",
   "nbconvert_exporter": "python",
   "pygments_lexer": "ipython3",
   "version": "3.10.8"
  }
 },
 "nbformat": 4,
 "nbformat_minor": 5
}
